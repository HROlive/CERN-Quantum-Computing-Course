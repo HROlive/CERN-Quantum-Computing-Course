{
 "cells": [
  {
   "cell_type": "markdown",
   "metadata": {},
   "source": [
    "# Quantum Approximate Optimization Algorithm\n",
    "\n",
    "In this notebook we are going to show how to use the implementation of QAOA available in Aqua to obtain solutions to the MaxCut problem"
   ]
  },
  {
   "cell_type": "code",
   "execution_count": 1,
   "metadata": {},
   "outputs": [
    {
     "name": "stdout",
     "output_type": "stream",
     "text": [
      "Requirement already satisfied: qiskit==0.28.0 in /opt/conda/lib/python3.8/site-packages (0.28.0)\n",
      "Requirement already satisfied: qiskit-aer==0.8.2 in /opt/conda/lib/python3.8/site-packages (from qiskit==0.28.0) (0.8.2)\n",
      "Requirement already satisfied: qiskit-aqua==0.9.4 in /opt/conda/lib/python3.8/site-packages (from qiskit==0.28.0) (0.9.4)\n",
      "Requirement already satisfied: qiskit-ignis==0.6.0 in /opt/conda/lib/python3.8/site-packages (from qiskit==0.28.0) (0.6.0)\n",
      "Requirement already satisfied: qiskit-terra==0.18.0 in /opt/conda/lib/python3.8/site-packages (from qiskit==0.28.0) (0.18.0)\n",
      "Requirement already satisfied: qiskit-ibmq-provider==0.15.0 in /opt/conda/lib/python3.8/site-packages (from qiskit==0.28.0) (0.15.0)\n",
      "Requirement already satisfied: scipy>=1.0 in /opt/conda/lib/python3.8/site-packages (from qiskit-aer==0.8.2->qiskit==0.28.0) (1.8.0)\n",
      "Requirement already satisfied: pybind11>=2.6 in /opt/conda/lib/python3.8/site-packages (from qiskit-aer==0.8.2->qiskit==0.28.0) (2.9.2)\n",
      "Requirement already satisfied: numpy>=1.16.3 in /opt/conda/lib/python3.8/site-packages (from qiskit-aer==0.8.2->qiskit==0.28.0) (1.21.5)\n",
      "Requirement already satisfied: docplex>=2.21.207 in /opt/conda/lib/python3.8/site-packages (from qiskit-aqua==0.9.4->qiskit==0.28.0) (2.23.222)\n",
      "Requirement already satisfied: h5py<3.3.0 in /opt/conda/lib/python3.8/site-packages (from qiskit-aqua==0.9.4->qiskit==0.28.0) (3.2.1)\n",
      "Requirement already satisfied: setuptools>=40.1.0 in /opt/conda/lib/python3.8/site-packages (from qiskit-aqua==0.9.4->qiskit==0.28.0) (61.2.0)\n",
      "Requirement already satisfied: pandas in /opt/conda/lib/python3.8/site-packages (from qiskit-aqua==0.9.4->qiskit==0.28.0) (1.3.5)\n",
      "Requirement already satisfied: quandl in /opt/conda/lib/python3.8/site-packages (from qiskit-aqua==0.9.4->qiskit==0.28.0) (3.7.0)\n",
      "Requirement already satisfied: yfinance<0.1.63 in /opt/conda/lib/python3.8/site-packages (from qiskit-aqua==0.9.4->qiskit==0.28.0) (0.1.62)\n",
      "Requirement already satisfied: scikit-learn>=0.20.0 in /opt/conda/lib/python3.8/site-packages (from qiskit-aqua==0.9.4->qiskit==0.28.0) (1.1.1)\n",
      "Requirement already satisfied: psutil>=5 in /opt/conda/lib/python3.8/site-packages (from qiskit-aqua==0.9.4->qiskit==0.28.0) (5.9.0)\n",
      "Requirement already satisfied: dlx<=1.0.4 in /opt/conda/lib/python3.8/site-packages (from qiskit-aqua==0.9.4->qiskit==0.28.0) (1.0.4)\n",
      "Requirement already satisfied: sympy>=1.3 in /opt/conda/lib/python3.8/site-packages (from qiskit-aqua==0.9.4->qiskit==0.28.0) (1.10.1)\n",
      "Requirement already satisfied: retworkx>=0.8.0 in /opt/conda/lib/python3.8/site-packages (from qiskit-aqua==0.9.4->qiskit==0.28.0) (0.11.0)\n",
      "Requirement already satisfied: fastdtw<=0.3.4 in /opt/conda/lib/python3.8/site-packages (from qiskit-aqua==0.9.4->qiskit==0.28.0) (0.3.4)\n",
      "Requirement already satisfied: python-dateutil>=2.8.0 in /opt/conda/lib/python3.8/site-packages (from qiskit-ibmq-provider==0.15.0->qiskit==0.28.0) (2.8.2)\n",
      "Requirement already satisfied: websocket-client>=1.0.1 in /opt/conda/lib/python3.8/site-packages (from qiskit-ibmq-provider==0.15.0->qiskit==0.28.0) (1.3.2)\n",
      "Requirement already satisfied: requests-ntlm>=1.1.0 in /opt/conda/lib/python3.8/site-packages (from qiskit-ibmq-provider==0.15.0->qiskit==0.28.0) (1.1.0)\n",
      "Requirement already satisfied: requests>=2.19 in /opt/conda/lib/python3.8/site-packages (from qiskit-ibmq-provider==0.15.0->qiskit==0.28.0) (2.27.1)\n",
      "Requirement already satisfied: urllib3>=1.21.1 in /opt/conda/lib/python3.8/site-packages (from qiskit-ibmq-provider==0.15.0->qiskit==0.28.0) (1.26.9)\n",
      "Requirement already satisfied: dill>=0.3 in /opt/conda/lib/python3.8/site-packages (from qiskit-terra==0.18.0->qiskit==0.28.0) (0.3.4)\n",
      "Requirement already satisfied: tweedledum<2.0,>=1.1 in /opt/conda/lib/python3.8/site-packages (from qiskit-terra==0.18.0->qiskit==0.28.0) (1.1.1)\n",
      "Requirement already satisfied: fastjsonschema>=2.10 in /opt/conda/lib/python3.8/site-packages (from qiskit-terra==0.18.0->qiskit==0.28.0) (2.15.3)\n",
      "Requirement already satisfied: python-constraint>=1.4 in /opt/conda/lib/python3.8/site-packages (from qiskit-terra==0.18.0->qiskit==0.28.0) (1.4.0)\n",
      "Requirement already satisfied: symengine>0.7 in /opt/conda/lib/python3.8/site-packages (from qiskit-terra==0.18.0->qiskit==0.28.0) (0.9.2)\n",
      "Requirement already satisfied: ply>=3.10 in /opt/conda/lib/python3.8/site-packages (from qiskit-terra==0.18.0->qiskit==0.28.0) (3.11)\n",
      "Requirement already satisfied: jsonschema>=2.6 in /opt/conda/lib/python3.8/site-packages (from qiskit-terra==0.18.0->qiskit==0.28.0) (4.4.0)\n",
      "Requirement already satisfied: six in /opt/conda/lib/python3.8/site-packages (from docplex>=2.21.207->qiskit-aqua==0.9.4->qiskit==0.28.0) (1.16.0)\n",
      "Requirement already satisfied: importlib-resources>=1.4.0 in /opt/conda/lib/python3.8/site-packages (from jsonschema>=2.6->qiskit-terra==0.18.0->qiskit==0.28.0) (5.6.0)\n",
      "Requirement already satisfied: attrs>=17.4.0 in /opt/conda/lib/python3.8/site-packages (from jsonschema>=2.6->qiskit-terra==0.18.0->qiskit==0.28.0) (21.4.0)\n",
      "Requirement already satisfied: pyrsistent!=0.17.0,!=0.17.1,!=0.17.2,>=0.14.0 in /opt/conda/lib/python3.8/site-packages (from jsonschema>=2.6->qiskit-terra==0.18.0->qiskit==0.28.0) (0.18.1)\n",
      "Requirement already satisfied: zipp>=3.1.0 in /opt/conda/lib/python3.8/site-packages (from importlib-resources>=1.4.0->jsonschema>=2.6->qiskit-terra==0.18.0->qiskit==0.28.0) (3.7.0)\n",
      "Requirement already satisfied: certifi>=2017.4.17 in /opt/conda/lib/python3.8/site-packages (from requests>=2.19->qiskit-ibmq-provider==0.15.0->qiskit==0.28.0) (2021.10.8)\n",
      "Requirement already satisfied: charset-normalizer~=2.0.0 in /opt/conda/lib/python3.8/site-packages (from requests>=2.19->qiskit-ibmq-provider==0.15.0->qiskit==0.28.0) (2.0.12)\n",
      "Requirement already satisfied: idna<4,>=2.5 in /opt/conda/lib/python3.8/site-packages (from requests>=2.19->qiskit-ibmq-provider==0.15.0->qiskit==0.28.0) (3.3)\n",
      "Requirement already satisfied: cryptography>=1.3 in /opt/conda/lib/python3.8/site-packages (from requests-ntlm>=1.1.0->qiskit-ibmq-provider==0.15.0->qiskit==0.28.0) (36.0.2)\n",
      "Requirement already satisfied: ntlm-auth>=1.0.2 in /opt/conda/lib/python3.8/site-packages (from requests-ntlm>=1.1.0->qiskit-ibmq-provider==0.15.0->qiskit==0.28.0) (1.5.0)\n",
      "Requirement already satisfied: cffi>=1.12 in /opt/conda/lib/python3.8/site-packages (from cryptography>=1.3->requests-ntlm>=1.1.0->qiskit-ibmq-provider==0.15.0->qiskit==0.28.0) (1.15.0)\n",
      "Requirement already satisfied: pycparser in /opt/conda/lib/python3.8/site-packages (from cffi>=1.12->cryptography>=1.3->requests-ntlm>=1.1.0->qiskit-ibmq-provider==0.15.0->qiskit==0.28.0) (2.21)\n",
      "Requirement already satisfied: joblib>=1.0.0 in /opt/conda/lib/python3.8/site-packages (from scikit-learn>=0.20.0->qiskit-aqua==0.9.4->qiskit==0.28.0) (1.1.0)\n",
      "Requirement already satisfied: threadpoolctl>=2.0.0 in /opt/conda/lib/python3.8/site-packages (from scikit-learn>=0.20.0->qiskit-aqua==0.9.4->qiskit==0.28.0) (3.1.0)\n",
      "Requirement already satisfied: mpmath>=0.19 in /opt/conda/lib/python3.8/site-packages (from sympy>=1.3->qiskit-aqua==0.9.4->qiskit==0.28.0) (1.2.1)\n",
      "Requirement already satisfied: lxml>=4.5.1 in /opt/conda/lib/python3.8/site-packages (from yfinance<0.1.63->qiskit-aqua==0.9.4->qiskit==0.28.0) (4.9.0)\n",
      "Requirement already satisfied: multitasking>=0.0.7 in /opt/conda/lib/python3.8/site-packages (from yfinance<0.1.63->qiskit-aqua==0.9.4->qiskit==0.28.0) (0.0.10)\n",
      "Requirement already satisfied: pytz>=2017.3 in /opt/conda/lib/python3.8/site-packages (from pandas->qiskit-aqua==0.9.4->qiskit==0.28.0) (2022.1)\n",
      "Requirement already satisfied: inflection>=0.3.1 in /opt/conda/lib/python3.8/site-packages (from quandl->qiskit-aqua==0.9.4->qiskit==0.28.0) (0.5.1)\n",
      "Requirement already satisfied: more-itertools in /opt/conda/lib/python3.8/site-packages (from quandl->qiskit-aqua==0.9.4->qiskit==0.28.0) (8.12.0)\n"
     ]
    }
   ],
   "source": [
    "# since aqua was deprecated on version 0.9.0, we need to downgrade qiskit to a version that still supports it\n",
    "!pip install qiskit==0.28.0"
   ]
  },
  {
   "cell_type": "code",
   "execution_count": 2,
   "metadata": {},
   "outputs": [
    {
     "name": "stderr",
     "output_type": "stream",
     "text": [
      "<frozen importlib._bootstrap>:219: RuntimeWarning: scipy._lib.messagestream.MessageStream size changed, may indicate binary incompatibility. Expected 56 from C header, got 64 from PyObject\n",
      "/opt/conda/lib/python3.8/site-packages/qiskit/aqua/__init__.py:86: DeprecationWarning: The package qiskit.aqua is deprecated. It was moved/refactored to qiskit-terra For more information see <https://github.com/Qiskit/qiskit-aqua/blob/main/README.md#migration-guide>\n",
      "  warn_package('aqua', 'qiskit-terra')\n"
     ]
    }
   ],
   "source": [
    "import numpy as np\n",
    "\n",
    "from qiskit import Aer, IBMQ\n",
    "from qiskit.aqua import aqua_globals, QuantumInstance\n",
    "from qiskit.aqua.algorithms import QAOA\n",
    "from qiskit.aqua.components.optimizers import *\n",
    "from qiskit.quantum_info import Pauli\n",
    "from qiskit.aqua.operators import WeightedPauliOperator\n",
    "from qiskit.providers.aer.noise import NoiseModel\n",
    "\n",
    "provider = IBMQ.load_account()"
   ]
  },
  {
   "cell_type": "markdown",
   "metadata": {},
   "source": [
    "First, we define a function that from the coefficients of an Ising model creates the Hamiltonian for which we are going to find the ground state."
   ]
  },
  {
   "cell_type": "code",
   "execution_count": 3,
   "metadata": {},
   "outputs": [],
   "source": [
    "def get_operator(J,h,n):    \n",
    "    pauli_list = []\n",
    "\n",
    "    for (i,j) in J: # For each coefficient in J (couplings) we add a term J[i,j]Z_iZj\n",
    "        x_p = np.zeros(n, dtype=np.bool)\n",
    "        z_p = np.zeros(n, dtype=np.bool)\n",
    "        z_p[n-1-i] = True \n",
    "        z_p[n-1-j] = True\n",
    "        pauli_list.append([J[(i,j)],Pauli(z_p, x_p)])\n",
    "     \n",
    "    for i in h: # For each coefficient in h we add a term h[i]Z_i\n",
    "        x_p = np.zeros(n, dtype=np.bool)\n",
    "        z_p = np.zeros(n, dtype=np.bool)\n",
    "        z_p[n-1-i] = True\n",
    "        pauli_list.append([h[i],Pauli(z_p, x_p)])\n",
    "    \n",
    "    return WeightedPauliOperator(paulis=pauli_list)"
   ]
  },
  {
   "cell_type": "markdown",
   "metadata": {},
   "source": [
    "Now, we define the edges of the graph and obtain the Hamiltonian. For this graph, which is a cycle of length 5, the optimal solution gives a cost of -3"
   ]
  },
  {
   "cell_type": "code",
   "execution_count": 4,
   "metadata": {},
   "outputs": [
    {
     "name": "stdout",
     "output_type": "stream",
     "text": [
      "Representation: paulis, qubits: 5, size: 5\n"
     ]
    },
    {
     "name": "stderr",
     "output_type": "stream",
     "text": [
      "/tmp/ipykernel_255/3746474484.py:5: DeprecationWarning: `np.bool` is a deprecated alias for the builtin `bool`. To silence this warning, use `bool` by itself. Doing this will not modify any behavior and is safe. If you specifically wanted the numpy scalar type, use `np.bool_` here.\n",
      "Deprecated in NumPy 1.20; for more details and guidance: https://numpy.org/devdocs/release/1.20.0-notes.html#deprecations\n",
      "  x_p = np.zeros(n, dtype=np.bool)\n",
      "/tmp/ipykernel_255/3746474484.py:6: DeprecationWarning: `np.bool` is a deprecated alias for the builtin `bool`. To silence this warning, use `bool` by itself. Doing this will not modify any behavior and is safe. If you specifically wanted the numpy scalar type, use `np.bool_` here.\n",
      "Deprecated in NumPy 1.20; for more details and guidance: https://numpy.org/devdocs/release/1.20.0-notes.html#deprecations\n",
      "  z_p = np.zeros(n, dtype=np.bool)\n",
      "/opt/conda/lib/python3.8/site-packages/qiskit/quantum_info/operators/symplectic/pauli.py:195: DeprecationWarning: Initializing Pauli from `Pauli(z=z, x=x)` kwargs is deprecated as of version 0.17.0 and will be removed no earlier than 3 months after the release date. Use tuple initialization `Pauli((z, x))` instead.\n",
      "  base_z, base_x, base_phase = self._from_array_deprecated(z, x)\n",
      "/tmp/ipykernel_255/3746474484.py:17: DeprecationWarning: The package qiskit.aqua.operators is deprecated. It was moved/refactored to qiskit.opflow (pip install qiskit-terra). For more information see <https://github.com/Qiskit/qiskit-aqua/blob/main/README.md#migration-guide>\n",
      "  return WeightedPauliOperator(paulis=pauli_list)\n"
     ]
    },
    {
     "data": {
      "text/plain": [
       "'ZZIII\\t(1+0j)\\nIZZII\\t(1+0j)\\nIIZZI\\t(1+0j)\\nIIIZZ\\t(1+0j)\\nZIIIZ\\t(1+0j)\\n'"
      ]
     },
     "execution_count": 4,
     "metadata": {},
     "output_type": "execute_result"
    }
   ],
   "source": [
    "# Edges of the graph\n",
    "\n",
    "J1 = {(0,1):1, (1,2):1, (2,3):1, (3,4):1, (4,0):1}\n",
    "h1 = {}\n",
    "n = 5\n",
    "\n",
    "# Hamiltonian\n",
    "\n",
    "q_op =get_operator(J1,h1,n) \n",
    "print(q_op)\n",
    "q_op.print_details()"
   ]
  },
  {
   "cell_type": "markdown",
   "metadata": {},
   "source": [
    "We are going to run 10 repetitions on the statevector simulator"
   ]
  },
  {
   "cell_type": "code",
   "execution_count": 5,
   "metadata": {},
   "outputs": [
    {
     "name": "stderr",
     "output_type": "stream",
     "text": [
      "/opt/conda/lib/python3.8/site-packages/qiskit/aqua/quantum_instance.py:135: DeprecationWarning: The class qiskit.aqua.QuantumInstance is deprecated. It was moved/refactored to qiskit.utils.QuantumInstance (pip install qiskit-terra). For more information see <https://github.com/Qiskit/qiskit-aqua/blob/main/README.md#migration-guide>\n",
      "  warn_class('aqua.QuantumInstance',\n"
     ]
    }
   ],
   "source": [
    "rep = 10\n",
    "backend = Aer.get_backend('statevector_simulator')\n",
    "quantum_instance = QuantumInstance(backend)"
   ]
  },
  {
   "cell_type": "markdown",
   "metadata": {},
   "source": [
    "We run QAOA with COBYLA as the classical optimizer and with optimization level $p = 1$"
   ]
  },
  {
   "cell_type": "code",
   "execution_count": 6,
   "metadata": {},
   "outputs": [
    {
     "name": "stdout",
     "output_type": "stream",
     "text": [
      "----- ITERATION  0  ------\n"
     ]
    },
    {
     "name": "stderr",
     "output_type": "stream",
     "text": [
      "/opt/conda/lib/python3.8/site-packages/qiskit/aqua/components/optimizers/optimizer.py:49: DeprecationWarning: The package qiskit.aqua.components.optimizers is deprecated. It was moved/refactored to qiskit.algorithms.optimizers (pip install qiskit-terra). For more information see <https://github.com/Qiskit/qiskit-aqua/blob/main/README.md#migration-guide>\n",
      "  warn_package('aqua.components.optimizers',\n",
      "/opt/conda/lib/python3.8/site-packages/qiskit/aqua/algorithms/vq_algorithm.py:70: DeprecationWarning: The class qiskit.aqua.algorithms.VQAlgorithm is deprecated. It was moved/refactored to qiskit.algorithms.VariationalAlgorithm (pip install qiskit-terra). For more information see <https://github.com/Qiskit/qiskit-aqua/blob/main/README.md#migration-guide>\n",
      "  warn_class('aqua.algorithms.VQAlgorithm',\n",
      "/opt/conda/lib/python3.8/site-packages/qiskit/aqua/components/variational_forms/variational_form.py:48: DeprecationWarning: The package qiskit.aqua.components.variational_forms is deprecated. For more information see <https://github.com/Qiskit/qiskit-aqua/blob/main/README.md#migration-guide>\n",
      "  warn_package('aqua.components.variational_forms')\n",
      "/opt/conda/lib/python3.8/site-packages/qiskit/aqua/algorithms/quantum_algorithm.py:46: DeprecationWarning: The variable qiskit.aqua.aqua_globals is deprecated. It was moved/refactored to qiskit.utils.algorithm_globals (pip install qiskit-terra). For more information see <https://github.com/Qiskit/qiskit-aqua/blob/main/README.md#migration-guide>\n",
      "  return aqua_globals.random\n"
     ]
    },
    {
     "name": "stdout",
     "output_type": "stream",
     "text": [
      "Optimal value -2.499999668827157\n",
      "----- ITERATION  1  ------\n",
      "Optimal value -2.49999973600063\n",
      "----- ITERATION  2  ------\n",
      "Optimal value -2.4999998774871006\n",
      "----- ITERATION  3  ------\n",
      "Optimal value -2.499999754026706\n",
      "----- ITERATION  4  ------\n",
      "Optimal value -2.4999998316924903\n",
      "----- ITERATION  5  ------\n",
      "Optimal value -2.4999998446497456\n",
      "----- ITERATION  6  ------\n",
      "Optimal value -2.499999786823413\n",
      "----- ITERATION  7  ------\n",
      "Optimal value -2.4999995935626256\n",
      "----- ITERATION  8  ------\n",
      "Optimal value -2.4999998739845095\n",
      "----- ITERATION  9  ------\n",
      "Optimal value -2.4999996819424597\n",
      "----- AVERAGE -----\n",
      "Average value -2.499999764899684\n"
     ]
    }
   ],
   "source": [
    "p = 1\n",
    "val = 0\n",
    "for i in range(rep):\n",
    "    print(\"----- ITERATION \",i, \" ------\")\n",
    "    optimizer = COBYLA()\n",
    "    qaoa = QAOA(q_op, optimizer, p=p)\n",
    "    result = qaoa.run(quantum_instance)\n",
    "    print(\"Optimal value\", result['optimal_value'])\n",
    "    val+=result['optimal_value']\n",
    "print(\"----- AVERAGE -----\")\n",
    "print(\"Average value\",val/rep)"
   ]
  },
  {
   "cell_type": "markdown",
   "metadata": {},
   "source": [
    "Now, we increase $p$ to $2$"
   ]
  },
  {
   "cell_type": "code",
   "execution_count": 7,
   "metadata": {},
   "outputs": [
    {
     "name": "stdout",
     "output_type": "stream",
     "text": [
      "----- ITERATION  0  ------\n",
      "Optimal value -2.999985766953787\n",
      "----- ITERATION  1  ------\n",
      "Optimal value -2.999986421305983\n",
      "----- ITERATION  2  ------\n",
      "Optimal value -2.9999705827353855\n",
      "----- ITERATION  3  ------\n",
      "Optimal value -2.9999711074488227\n",
      "----- ITERATION  4  ------\n",
      "Optimal value -2.9999883805541123\n",
      "----- ITERATION  5  ------\n",
      "Optimal value -2.9999995526234344\n",
      "----- ITERATION  6  ------\n",
      "Optimal value -2.9999765342002\n",
      "----- ITERATION  7  ------\n",
      "Optimal value -2.9993140430504255\n",
      "----- ITERATION  8  ------\n",
      "Optimal value -2.9999999299588405\n",
      "----- ITERATION  9  ------\n",
      "Optimal value -2.9999996249356853\n",
      "----- AVERAGE -----\n",
      "Average value -2.9999191943766674\n"
     ]
    }
   ],
   "source": [
    "p = 2\n",
    "val = 0\n",
    "for i in range(rep):\n",
    "    print(\"----- ITERATION \",i, \" ------\")\n",
    "    optimizer = COBYLA()\n",
    "    qaoa = QAOA(q_op, optimizer, p=p)\n",
    "    result = qaoa.run(quantum_instance)\n",
    "    print(\"Optimal value\", result['optimal_value'])\n",
    "    val+=result['optimal_value']\n",
    "print(\"----- AVERAGE -----\")\n",
    "print(\"Average value\",val/rep)"
   ]
  },
  {
   "cell_type": "markdown",
   "metadata": {},
   "source": [
    "We are going to run the algorithm with a backend which includes a noise model"
   ]
  },
  {
   "cell_type": "code",
   "execution_count": 8,
   "metadata": {},
   "outputs": [],
   "source": [
    "rep = 10\n",
    "backendIBM = provider.get_backend('ibmq_belem')\n",
    "noise_model = NoiseModel.from_backend(backendIBM)\n",
    "coupling_map = backendIBM.configuration().coupling_map\n",
    "basis_gates = noise_model.basis_gates\n",
    "backend = Aer.get_backend(\"qasm_simulator\")\n",
    "\n",
    "\n",
    "shots = 8192\n",
    "optimization_level = 3\n",
    "p = 1\n",
    "quantum_instance = QuantumInstance(backend, shots = shots, \n",
    "                                    optimization_level = optimization_level,\n",
    "                                    noise_model = noise_model,\n",
    "                                    basis_gates = basis_gates,\n",
    "                                    coupling_map = coupling_map)"
   ]
  },
  {
   "cell_type": "code",
   "execution_count": 9,
   "metadata": {},
   "outputs": [
    {
     "name": "stdout",
     "output_type": "stream",
     "text": [
      "----- ITERATION  0  ------\n",
      "Optimal value -0.7060546875\n",
      "----- ITERATION  1  ------\n",
      "Optimal value -0.74560546875\n",
      "----- ITERATION  2  ------\n",
      "Optimal value -0.7587890625\n",
      "----- ITERATION  3  ------\n",
      "Optimal value -0.68408203125\n",
      "----- ITERATION  4  ------\n",
      "Optimal value -0.70166015625\n",
      "----- ITERATION  5  ------\n",
      "Optimal value -0.68505859375\n",
      "----- ITERATION  6  ------\n",
      "Optimal value -0.76611328125\n",
      "----- ITERATION  7  ------\n",
      "Optimal value -0.66845703125\n",
      "----- ITERATION  8  ------\n",
      "Optimal value -0.7724609375\n",
      "----- ITERATION  9  ------\n",
      "Optimal value -0.75244140625\n",
      "----- AVERAGE -----\n",
      "Average value -0.724072265625\n"
     ]
    }
   ],
   "source": [
    "p = 1\n",
    "val = 0\n",
    "for i in range(rep):\n",
    "    print(\"----- ITERATION \",i, \" ------\")\n",
    "    optimizer = COBYLA()\n",
    "    qaoa = QAOA(q_op, optimizer, p=p)\n",
    "    result = qaoa.run(quantum_instance)\n",
    "    print(\"Optimal value\", result['optimal_value'])\n",
    "    val+=result['optimal_value']\n",
    "print(\"----- AVERAGE -----\")\n",
    "print(\"Average value\",val/rep)"
   ]
  }
 ],
 "metadata": {
  "kernelspec": {
   "display_name": "Python 3 (ipykernel)",
   "language": "python",
   "name": "python3"
  },
  "language_info": {
   "codemirror_mode": {
    "name": "ipython",
    "version": 3
   },
   "file_extension": ".py",
   "mimetype": "text/x-python",
   "name": "python",
   "nbconvert_exporter": "python",
   "pygments_lexer": "ipython3",
   "version": "3.8.13"
  },
  "widgets": {
   "application/vnd.jupyter.widget-state+json": {
    "state": {},
    "version_major": 2,
    "version_minor": 0
   }
  }
 },
 "nbformat": 4,
 "nbformat_minor": 4
}
