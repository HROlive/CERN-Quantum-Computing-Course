{
 "cells": [
  {
   "cell_type": "markdown",
   "metadata": {},
   "source": [
    "## QGAN\n",
    "\n",
    "In this notebook, we are going to use Aqua's implementation of a Quantum Generative Adversarial Network to prepare a quantum state which is close to a given probability distribution "
   ]
  },
  {
   "cell_type": "code",
   "execution_count": null,
   "metadata": {},
   "outputs": [],
   "source": [
    "%matplotlib inline\n",
    "\n",
    "# since aqua was deprecated on version 0.9.0, we need to downgrade qiskit to a version that still supports it\n",
    "!pip install qiskit==0.28.0\n",
    "\n",
    "import numpy as np\n",
    "import matplotlib.pyplot as plt\n",
    "from qiskit import Aer\n",
    "from qiskit.aqua import QuantumInstance\n",
    "from qiskit.aqua.algorithms import QGAN"
   ]
  },
  {
   "cell_type": "markdown",
   "metadata": {},
   "source": [
    "We first generate training data taken from a simple probability distribution"
   ]
  },
  {
   "cell_type": "code",
   "execution_count": 2,
   "metadata": {},
   "outputs": [
    {
     "data": {
      "image/png": "[encoded data removed]",
      "text/plain": [
       "<Figure size 432x288 with 1 Axes>"
      ]
     },
     "metadata": {
      "needs_background": "light"
     },
     "output_type": "display_data"
    }
   ],
   "source": [
    "np.random.seed(2020)\n",
    "N = 1000\n",
    "\n",
    "real_data = np.random.binomial(3,0.5,N)\n",
    "plt.hist(real_data, bins = 4);"
   ]
  },
  {
   "cell_type": "markdown",
   "metadata": {},
   "source": [
    "Now, we define the parameters for our QAN and train it with the real data. Then, we use the trained generator to generate some samples and we represent them in a histogram.  "
   ]
  },
  {
   "cell_type": "code",
   "execution_count": null,
   "metadata": {},
   "outputs": [
    {
     "name": "stderr",
     "output_type": "stream",
     "text": [
      "/opt/conda/lib/python3.8/site-packages/qiskit/aqua/algorithms/distribution_learners/qgan.py:103: DeprecationWarning: The package qiskit.aqua.algorithms.distribution_learners is deprecated. It was moved/refactored to qiskit_machine_learning.algorithms.distribution_learners (pip install qiskit-machine-learning). For more information see <https://github.com/Qiskit/qiskit-aqua/blob/main/README.md#migration-guide>\n",
      "  warn_package('aqua.algorithms.distribution_learners',\n",
      "/opt/conda/lib/python3.8/site-packages/qiskit/aqua/components/neural_networks/generative_network.py:32: DeprecationWarning: The package qiskit.aqua.components.neural_networks is deprecated. It was moved/refactored to qiskit_machine_learning.algorithms.distribution_learners.qgan (pip install qiskit-machine-learning). For more information see <https://github.com/Qiskit/qiskit-aqua/blob/main/README.md#migration-guide>\n",
      "  warn_package('aqua.components.neural_networks',\n",
      "/opt/conda/lib/python3.8/site-packages/qiskit/aqua/components/neural_networks/quantum_generator.py:105: DeprecationWarning: The variable qiskit.aqua.aqua_globals is deprecated. It was moved/refactored to qiskit.utils.algorithm_globals (pip install qiskit-terra). For more information see <https://github.com/Qiskit/qiskit-aqua/blob/main/README.md#migration-guide>\n",
      "  init_params = aqua_globals.random.random(self.generator_circuit.num_parameters) * 2e-2\n",
      "/opt/conda/lib/python3.8/site-packages/qiskit/aqua/components/optimizers/optimizer.py:49: DeprecationWarning: The package qiskit.aqua.components.optimizers is deprecated. It was moved/refactored to qiskit.algorithms.optimizers (pip install qiskit-terra). For more information see <https://github.com/Qiskit/qiskit-aqua/blob/main/README.md#migration-guide>\n",
      "  warn_package('aqua.components.optimizers',\n",
      "/opt/conda/lib/python3.8/site-packages/qiskit/aqua/quantum_instance.py:135: DeprecationWarning: The class qiskit.aqua.QuantumInstance is deprecated. It was moved/refactored to qiskit.utils.QuantumInstance (pip install qiskit-terra). For more information see <https://github.com/Qiskit/qiskit-aqua/blob/main/README.md#migration-guide>\n",
      "  warn_class('aqua.QuantumInstance',\n"
     ]
    }
   ],
   "source": [
    "n = 2\n",
    "num_qubits = [n]\n",
    "num_epochs = 100\n",
    "batch_size = 100\n",
    "bounds = [0,3]\n",
    "qgan = QGAN(data = real_data, \n",
    "            num_qubits = num_qubits, \n",
    "            batch_size = batch_size, \n",
    "            num_epochs = num_epochs,\n",
    "            bounds = bounds,\n",
    "            seed = 2020)\n",
    "quantum_instance = QuantumInstance(backend=Aer.get_backend('statevector_simulator'))\n",
    "result = qgan.run(quantum_instance)\n",
    "samples_g, prob_g = qgan.generator.get_output(qgan.quantum_instance, shots=10000)\n",
    "plt.hist(range(4), weights = prob_g, bins = 4);"
   ]
  },
  {
   "cell_type": "markdown",
   "metadata": {},
   "source": [
    "We show the evolution of the loss function of both the generator and the discriminator"
   ]
  },
  {
   "cell_type": "code",
   "execution_count": null,
   "metadata": {},
   "outputs": [],
   "source": [
    "plt.title(\"Loss function evolution\")\n",
    "plt.plot(range(num_epochs), qgan.g_loss, label='Generator')\n",
    "plt.plot(range(num_epochs), qgan.d_loss, label='Discriminator')\n",
    "plt.legend()\n",
    "plt.show()"
   ]
  },
  {
   "cell_type": "markdown",
   "metadata": {},
   "source": [
    "And, also, the evolution of the relative entropy during the training."
   ]
  },
  {
   "cell_type": "code",
   "execution_count": null,
   "metadata": {},
   "outputs": [],
   "source": [
    "plt.title('Relative entropy evolution')\n",
    "plt.plot(qgan.rel_entr)\n",
    "plt.show()"
   ]
  },
  {
   "cell_type": "code",
   "execution_count": null,
   "metadata": {},
   "outputs": [],
   "source": [
    "import qiskit\n",
    "qiskit.__qiskit_version__"
   ]
  },
  {
   "cell_type": "code",
   "execution_count": null,
   "metadata": {},
   "outputs": [],
   "source": []
  }
 ],
 "metadata": {
  "kernelspec": {
   "display_name": "Python 3 (ipykernel)",
   "language": "python",
   "name": "python3"
  },
  "language_info": {
   "codemirror_mode": {
    "name": "ipython",
    "version": 3
   },
   "file_extension": ".py",
   "mimetype": "text/x-python",
   "name": "python",
   "nbconvert_exporter": "python",
   "pygments_lexer": "ipython3",
   "version": "3.8.13"
  },
  "widgets": {
   "application/vnd.jupyter.widget-state+json": {
    "state": {},
    "version_major": 2,
    "version_minor": 0
   }
  }
 },
 "nbformat": 4,
 "nbformat_minor": 4
}
